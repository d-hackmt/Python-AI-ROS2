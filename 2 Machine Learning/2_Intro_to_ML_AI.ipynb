{
  "nbformat": 4,
  "nbformat_minor": 0,
  "metadata": {
    "colab": {
      "provenance": []
    },
    "kernelspec": {
      "name": "python3",
      "display_name": "Python 3"
    },
    "language_info": {
      "name": "python"
    }
  },
  "cells": [
    {
      "cell_type": "markdown",
      "source": [
        "# Data Pre-processing Template"
      ],
      "metadata": {
        "id": "8NTzzHAxi1Hj"
      }
    },
    {
      "cell_type": "markdown",
      "source": [
        "## Importing necessary Libraries"
      ],
      "metadata": {
        "id": "3kGgvwOVjHZd"
      }
    },
    {
      "cell_type": "code",
      "execution_count": null,
      "metadata": {
        "id": "OtO8Ac-SiTAZ"
      },
      "outputs": [],
      "source": [
        "import numpy as np\n",
        "import matplotlib.pyplot as plt\n",
        "import pandas as pd"
      ]
    },
    {
      "cell_type": "markdown",
      "source": [
        "## Importing Dataset\n",
        "Reading CSV File - \"Data.csv\". X is the entire data frame EXCEPT the last column. y is the last column"
      ],
      "metadata": {
        "id": "WG63ji6hjNsn"
      }
    },
    {
      "cell_type": "code",
      "source": [
        "dataset = pd.read_csv('Data.csv')\n",
        "X = dataset.iloc[:, :-1].values\n",
        "y = dataset.iloc[:, -1].values"
      ],
      "metadata": {
        "id": "l6oNUwKbjTCO"
      },
      "execution_count": null,
      "outputs": []
    },
    {
      "cell_type": "markdown",
      "source": [
        "## Splitting the dataset into the Training set and Test set"
      ],
      "metadata": {
        "id": "wx5lUI3ljVgj"
      }
    },
    {
      "cell_type": "code",
      "source": [
        "from sklearn.model_selection import train_test_split\n",
        "X_train, X_test, y_train, y_test = train_test_split(X, y, test_size = 0.2, random_state = 0)"
      ],
      "metadata": {
        "id": "WziTAMEAjY3o"
      },
      "execution_count": null,
      "outputs": []
    },
    {
      "cell_type": "markdown",
      "source": [
        "# Machine Learning Model"
      ],
      "metadata": {
        "id": "H9-nRyV9kXCc"
      }
    },
    {
      "cell_type": "markdown",
      "source": [
        "## Training model on Training Set"
      ],
      "metadata": {
        "id": "ZkIiewrnjg-w"
      }
    },
    {
      "cell_type": "code",
      "source": [
        "from sklearn.linear_model import LinearRegression # or any preferred model\n",
        "regressor = LinearRegression() # change it with your preferred model\n",
        "regressor.fit(X_train, y_train)"
      ],
      "metadata": {
        "id": "6IddmsZuj3f-"
      },
      "execution_count": null,
      "outputs": []
    },
    {
      "cell_type": "markdown",
      "source": [
        "## Prediction the Test Set results"
      ],
      "metadata": {
        "id": "rFj4KVHlkCZD"
      }
    },
    {
      "cell_type": "code",
      "source": [
        "y_pred = regressor.predict(X_test)"
      ],
      "metadata": {
        "id": "xC0yKBKxkHjd"
      },
      "execution_count": null,
      "outputs": []
    },
    {
      "cell_type": "markdown",
      "source": [
        "## Visualising the Training set results"
      ],
      "metadata": {
        "id": "y8OpQ9SOkIsp"
      }
    },
    {
      "cell_type": "code",
      "source": [
        "plt.scatter(X_train, y_train, color = 'red')\n",
        "plt.plot(X_train, regressor.predict(X_train), color = 'blue')\n",
        "plt.show()"
      ],
      "metadata": {
        "id": "c1hwmIRKkLs6"
      },
      "execution_count": null,
      "outputs": []
    },
    {
      "cell_type": "markdown",
      "source": [
        "## Visualising the Test set results"
      ],
      "metadata": {
        "id": "i3ZGbEJFkP40"
      }
    },
    {
      "cell_type": "code",
      "source": [
        "plt.scatter(X_test, y_test, color = 'red')\n",
        "plt.plot(X_train, regressor.predict(X_train), color = 'blue')\n",
        "plt.show()"
      ],
      "metadata": {
        "id": "nhxExGZMkSKT"
      },
      "execution_count": null,
      "outputs": []
    }
  ]
}
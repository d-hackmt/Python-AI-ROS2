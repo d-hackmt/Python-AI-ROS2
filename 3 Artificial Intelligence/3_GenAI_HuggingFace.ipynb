{
  "nbformat": 4,
  "nbformat_minor": 0,
  "metadata": {
    "colab": {
      "provenance": []
    },
    "kernelspec": {
      "name": "python3",
      "display_name": "Python 3"
    },
    "language_info": {
      "name": "python"
    }
  },
  "cells": [
    {
      "cell_type": "markdown",
      "source": [
        "# Natural Language Processing\n",
        "Field of linguistics and machine learning focused on understanding everything related to human language.\n",
        "\n",
        "The following is a list of common NLP tasks, with some examples of each:\n",
        "1. Classifying whole sentences\n",
        "2. Classifying each word in a sentence\n",
        "3. Generating text content\n",
        "4. Extracting an answer from a text\n",
        "5. Generating a new sentence from an input text\n",
        "\n",
        "## Why is it a challenge?\n",
        "The text needs to be processed in a way that enables the model to learn from it. And because language is complex, we need to think carefully about how this processing must be done."
      ],
      "metadata": {
        "id": "Ahc_nLtjokOI"
      }
    },
    {
      "cell_type": "markdown",
      "source": [
        "# Trasformers\n",
        "Install the Transformers, Datasets, and Evaluate libraries"
      ],
      "metadata": {
        "id": "2uWIAKIkq0DA"
      }
    },
    {
      "cell_type": "code",
      "execution_count": null,
      "metadata": {
        "id": "Sj3iTOe6lOIo"
      },
      "outputs": [],
      "source": [
        "!pip install datasets evaluate transformers[sentencepiece]"
      ]
    },
    {
      "cell_type": "markdown",
      "source": [
        "The most basic object in the 🤗 Transformers library is the pipeline() function. It connects a model with its necessary preprocessing and postprocessing steps, allowing us to directly input any text and get an intelligible answer:"
      ],
      "metadata": {
        "id": "0ZQmhM0Kq-yV"
      }
    },
    {
      "cell_type": "code",
      "source": [
        "from transformers import pipeline\n",
        "\n",
        "classifier = pipeline(\"sentiment-analysis\")\n",
        "classifier(\"I've been waiting for a RoboAI course on ML and AI, my whole life!\")"
      ],
      "metadata": {
        "id": "LB5D2ogFq-Sc"
      },
      "execution_count": null,
      "outputs": []
    },
    {
      "cell_type": "markdown",
      "source": [
        "We can even pass several sentences!"
      ],
      "metadata": {
        "id": "9IBXjVOmrRc9"
      }
    },
    {
      "cell_type": "code",
      "source": [
        "classifier(\n",
        "    [\"I've been waiting for a RoboAI course on ML and AI, my whole life!\",\n",
        "     \"I hate this course so much, I just wanna keave this Zoom meeting! Ughh!\"]\n",
        ")"
      ],
      "metadata": {
        "id": "77rdLeCwrRK_"
      },
      "execution_count": null,
      "outputs": []
    },
    {
      "cell_type": "markdown",
      "source": [
        "There are three main steps involved when you pass some text to a pipeline:\n",
        "\n",
        "1. The text is preprocessed into a format the model can understand.\n",
        "2. The preprocessed inputs are passed to the model.\n",
        "3. The predictions of the model are post-processed, so you can make sense of them."
      ],
      "metadata": {
        "id": "6Ypeis6gsNrT"
      }
    },
    {
      "cell_type": "markdown",
      "source": [
        "## Zero-shot classification\n",
        "\n",
        "You’ve already seen how the model can classify a sentence as positive or negative using those two labels — but it can also classify the text using any other set of labels you like"
      ],
      "metadata": {
        "id": "07Po8GCHsp1G"
      }
    },
    {
      "cell_type": "code",
      "source": [
        "from transformers import pipeline\n",
        "\n",
        "classifier = pipeline(\"zero-shot-classification\")\n",
        "classifier(\n",
        "    \"This is a course about the Transformers library\",\n",
        "    candidate_labels=[\"education\", \"politics\", \"business\"],\n",
        ")"
      ],
      "metadata": {
        "id": "F3Chn5svrfuX"
      },
      "execution_count": null,
      "outputs": []
    },
    {
      "cell_type": "markdown",
      "source": [
        "## Text-generation\n"
      ],
      "metadata": {
        "id": "WHRFvJNHtam4"
      }
    },
    {
      "cell_type": "code",
      "source": [
        "from transformers import pipeline\n",
        "\n",
        "generator = pipeline(\"text-generation\")\n",
        "generator(\"In this course on ML and AI by RoboAI, we will teach you how to\")"
      ],
      "metadata": {
        "id": "ITN8OQH_vVRR"
      },
      "execution_count": null,
      "outputs": []
    },
    {
      "cell_type": "code",
      "source": [
        "# you can also choose the model that you wish to use! - here, distilgpt2\n",
        "from transformers import pipeline\n",
        "\n",
        "generator = pipeline(\"text-generation\", model=\"distilgpt2\")\n",
        "generator(\n",
        "    \"In this course on ML and AI by RoboAI, we will teach you how to\",\n",
        "    max_length=30,\n",
        "    num_return_sequences=2,\n",
        ")"
      ],
      "metadata": {
        "id": "A4tV7Qpgwo1T"
      },
      "execution_count": null,
      "outputs": []
    },
    {
      "cell_type": "markdown",
      "source": [
        "## Mask filling"
      ],
      "metadata": {
        "id": "GSg3Mq56w6mC"
      }
    },
    {
      "cell_type": "code",
      "source": [
        "from transformers import pipeline\n",
        "\n",
        "unmasker = pipeline(\"fill-mask\")\n",
        "unmasker(\"This course will teach you all about <mask> models.\", top_k=2)"
      ],
      "metadata": {
        "id": "y3JZ8Ectw05r"
      },
      "execution_count": null,
      "outputs": []
    },
    {
      "cell_type": "markdown",
      "source": [
        "## Named entity recognition"
      ],
      "metadata": {
        "id": "yq5eO0sNw_LC"
      }
    },
    {
      "cell_type": "code",
      "source": [
        "from transformers import pipeline\n",
        "\n",
        "ner = pipeline(\"ner\", grouped_entities=True)\n",
        "ner(\"My name is Keivalya and I and the CTO of QuickBot Tech in Vadodara.\")"
      ],
      "metadata": {
        "id": "DKTG5TvQxCfU"
      },
      "execution_count": null,
      "outputs": []
    },
    {
      "cell_type": "markdown",
      "source": [
        "## Question Answering"
      ],
      "metadata": {
        "id": "_voREkn_xK7X"
      }
    },
    {
      "cell_type": "code",
      "source": [
        "from transformers import pipeline\n",
        "\n",
        "question_answerer = pipeline(\"question-answering\")\n",
        "question_answerer(\n",
        "    question=\"Where do I work?\",\n",
        "    context=\"My name is Keivalya and I and the CTO of QuickBot Tech in Vadodara.\",\n",
        ")"
      ],
      "metadata": {
        "id": "McfEIgGSxNrs"
      },
      "execution_count": null,
      "outputs": []
    },
    {
      "cell_type": "markdown",
      "source": [
        "## Summarization"
      ],
      "metadata": {
        "id": "GHi1LKZsxVWx"
      }
    },
    {
      "cell_type": "code",
      "source": [
        "from transformers import pipeline\n",
        "\n",
        "summarizer = pipeline(\"summarization\")\n",
        "summarizer(\n",
        "    \"\"\"\n",
        "    America has changed dramatically during recent years. Not only has the number of\n",
        "    graduates in traditional engineering disciplines such as mechanical, civil,\n",
        "    electrical, chemical, and aeronautical engineering declined, but in most of\n",
        "    the premier American universities engineering curricula now concentrate on\n",
        "    and encourage largely the study of engineering science. As a result, there\n",
        "    are declining offerings in engineering subjects dealing with infrastructure,\n",
        "    the environment, and related issues, and greater concentration on high\n",
        "    technology subjects, largely supporting increasingly complex scientific\n",
        "    developments. While the latter is important, it should not be at the expense\n",
        "    of more traditional engineering.\n",
        "\n",
        "    Rapidly developing economies such as China and India, as well as other\n",
        "    industrial countries in Europe and Asia, continue to encourage and advance\n",
        "    the teaching of engineering. Both China and India, respectively, graduate\n",
        "    six and eight times as many traditional engineers as does the United States.\n",
        "    Other industrial countries at minimum maintain their output, while America\n",
        "    suffers an increasingly serious decline in the number of engineering graduates\n",
        "    and a lack of well-educated engineers.\n",
        "\"\"\"\n",
        ")"
      ],
      "metadata": {
        "id": "A98wr3nmxVEJ"
      },
      "execution_count": null,
      "outputs": []
    },
    {
      "cell_type": "markdown",
      "source": [
        "Like with text generation, you can specify a `max_length` or a `min_length` for the result."
      ],
      "metadata": {
        "id": "MZbz1rXbzEzR"
      }
    },
    {
      "cell_type": "markdown",
      "source": [
        "## Translation"
      ],
      "metadata": {
        "id": "Z440GoWXzQu8"
      }
    },
    {
      "cell_type": "code",
      "source": [
        "from transformers import pipeline\n",
        "\n",
        "translator = pipeline(\"translation\", model=\"Helsinki-NLP/opus-mt-en-hi\")\n",
        "translator(\"My name is Keivalya, and I live in Vadodara.\")"
      ],
      "metadata": {
        "id": "YHyQaFJnxTQ9"
      },
      "execution_count": null,
      "outputs": []
    }
  ]
}